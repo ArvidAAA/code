{
 "metadata": {
  "language_info": {
   "codemirror_mode": {
    "name": "ipython",
    "version": 3
   },
   "file_extension": ".py",
   "mimetype": "text/x-python",
   "name": "python",
   "nbconvert_exporter": "python",
   "pygments_lexer": "ipython3",
   "version": "3.8.3-final"
  },
  "orig_nbformat": 2,
  "kernelspec": {
   "name": "Python 3.8.3 64-bit ('arvid.anderson': virtualenv)",
   "display_name": "Python 3.8.3 64-bit ('arvid.anderson': virtualenv)",
   "metadata": {
    "interpreter": {
     "hash": "f7e799fbc839b87c78744474d951de50a4d96b8b37bcdb1f73ef0ff2be85d734"
    }
   }
  }
 },
 "nbformat": 4,
 "nbformat_minor": 2,
 "cells": [
  {
   "cell_type": "code",
   "execution_count": null,
   "metadata": {
    "tags": []
   },
   "outputs": [],
   "source": [
    "#for satser Uppgift 1:a\n",
    "\n",
    "for tal in range(1, 11):\n",
    "    print(tal)"
   ]
  },
  {
   "cell_type": "code",
   "execution_count": 22,
   "metadata": {
    "tags": []
   },
   "outputs": [
    {
     "output_type": "stream",
     "name": "stdout",
     "text": "-10\n-9\n-8\n-7\n-6\n-5\n-4\n-3\n-2\n-1\n0\n1\n2\n3\n4\n5\n6\n7\n8\n9\n10\n"
    }
   ],
   "source": [
    "#for satser Uppgift 1:b\n",
    "\n",
    "for tal in range(-10, 11):\n",
    "    print(tal)"
   ]
  },
  {
   "cell_type": "code",
   "execution_count": 23,
   "metadata": {
    "tags": []
   },
   "outputs": [
    {
     "output_type": "stream",
     "name": "stdout",
     "text": "10\n9\n8\n7\n6\n5\n4\n3\n2\n1\n0\n"
    }
   ],
   "source": [
    "#for satser Uppgift 1:c\n",
    "\n",
    "for tal in range(11):\n",
    "    print(10-tal)"
   ]
  },
  {
   "source": [],
   "cell_type": "markdown",
   "metadata": {}
  },
  {
   "cell_type": "code",
   "execution_count": null,
   "metadata": {
    "tags": []
   },
   "outputs": [],
   "source": [
    "#for satser Uppgift 2\n",
    "\n",
    "lägsta = 1\n",
    "högsta = 100\n",
    "\n",
    "print(\"Primtalen mellan\", lägsta, \"och\", högsta, \"är:\")\n",
    "\n",
    "for num in range(lägsta, högsta + 1):\n",
    "   if num > 1:\n",
    "       for i in range(2, num):\n",
    "           if (num % i) == 0:\n",
    "               break\n",
    "       else:\n",
    "           print(num)"
   ]
  },
  {
   "cell_type": "code",
   "execution_count": 106,
   "metadata": {
    "tags": []
   },
   "outputs": [
    {
     "output_type": "stream",
     "name": "stdout",
     "text": "Den totala summan av den artimetiska följden är 5050\n"
    }
   ],
   "source": [
    "#for satser Uppgift 3\n",
    "s = 0\n",
    "\n",
    "for i in range (1,101):\n",
    "\ts = s + i\n",
    "print(f\"Den totala summan av den artimetiska följden är {s}\")"
   ]
  },
  {
   "cell_type": "code",
   "execution_count": 105,
   "metadata": {
    "tags": []
   },
   "outputs": [
    {
     "output_type": "stream",
     "name": "stdout",
     "text": "Den totala summan av den artimetiska följden är 2500\n"
    }
   ],
   "source": [
    "#for satser Uppgift 4\n",
    "s = 0\n",
    "\n",
    "for i in range (1,100,2):\n",
    "\ts = s + i\n",
    "print(f\"Den totala summan av den artimetiska följden är {s}\")"
   ]
  },
  {
   "cell_type": "code",
   "execution_count": 120,
   "metadata": {
    "tags": []
   },
   "outputs": [
    {
     "output_type": "stream",
     "name": "stdout",
     "text": "1 * 5 = 5\n2 * 5 = 10\n3 * 5 = 15\n4 * 5 = 20\n5 * 5 = 25\n6 * 5 = 30\n7 * 5 = 35\n8 * 5 = 40\n9 * 5 = 45\n10 * 5 = 50\n"
    }
   ],
   "source": [
    "#Uppgift 5 A\n",
    "\n",
    "for i in range (1, 11):\n",
    "    print(f\"{i} * 5 = {i * 5}\")"
   ]
  },
  {
   "cell_type": "code",
   "execution_count": null,
   "metadata": {},
   "outputs": [],
   "source": []
  }
 ]
}