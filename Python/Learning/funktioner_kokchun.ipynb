{
 "metadata": {
  "language_info": {
   "codemirror_mode": {
    "name": "ipython",
    "version": 3
   },
   "file_extension": ".py",
   "mimetype": "text/x-python",
   "name": "python",
   "nbconvert_exporter": "python",
   "pygments_lexer": "ipython3",
   "version": "3.8.3-final"
  },
  "orig_nbformat": 2,
  "kernelspec": {
   "name": "python3",
   "display_name": "Python 3",
   "language": "python"
  }
 },
 "nbformat": 4,
 "nbformat_minor": 2,
 "cells": [
  {
   "cell_type": "code",
   "execution_count": 21,
   "metadata": {},
   "outputs": [
    {
     "output_type": "execute_result",
     "data": {
      "text/plain": [
       "5.5"
      ]
     },
     "metadata": {},
     "execution_count": 21
    }
   ],
   "source": [
    "#Uppgift 1:a\n",
    "\n",
    "\n",
    "#a1 första talet\n",
    "#an sista talet\n",
    "#  n == ?\n",
    "\n",
    "#Definerar/skapar funktionen med paramterarna n, a1, an\n",
    "def aritmetisk_summa(n, a1, an):\n",
    "    #Uträkning\n",
    "    sum = n * (a1 + an) / 2\n",
    "    #Return\n",
    "    return sum\n",
    "\n",
    "aritmetisk_summa(5, 8, 15)\n",
    "#                N  a1 an\n",
    "# Random n a1 och an i denna uppgiften"
   ]
  },
  {
   "cell_type": "code",
   "execution_count": 19,
   "metadata": {},
   "outputs": [
    {
     "output_type": "execute_result",
     "data": {
      "text/plain": [
       "5050.0"
      ]
     },
     "metadata": {},
     "execution_count": 19
    }
   ],
   "source": [
    "#Uppgift 1:b\n",
    "\n",
    "def aritmetisk_summa(n, a1, an):\n",
    "    sum = n * (a1 + an) / 2\n",
    "    return sum\n",
    "\n",
    "#Använder eftersom uppgiften vill det\n",
    "aritmetisk_summa(100, 1, 100)"
   ]
  },
  {
   "cell_type": "code",
   "execution_count": 38,
   "metadata": {},
   "outputs": [
    {
     "output_type": "stream",
     "name": "stdout",
     "text": [
      "\n n: 100  \n a1: 1 \n an: 100 \n Ditt svar på den aritmetiska summan: 5050.0\n"
     ]
    }
   ],
   "source": [
    "#Uppgift 1:c\n",
    "\n",
    "def aritmetisk_summa(n, a1, an):\n",
    "    sum = n * (a1 + an) / 2\n",
    "    return sum\n",
    "\n",
    "#inputs\n",
    "\n",
    "nsave = int(input(\"Mata in ditt N värde\"))\n",
    "a1save = int(input(\"Mata in ditt a1 värde\"))\n",
    "ansave = int(input(\"Mata in ditt an värde\"))\n",
    "\n",
    "#Startar funktionen inom en f print för att få ut en snyggare print\n",
    "print(f\"\\n n: {nsave}  \\n a1: {a1save} \\n an: {ansave} \\n Ditt svar på den aritmetiska summan: {aritmetisk_summa(nsave, a1save, ansave)}\")"
   ]
  },
  {
   "cell_type": "code",
   "execution_count": null,
   "metadata": {},
   "outputs": [],
   "source": []
  }
 ]
}