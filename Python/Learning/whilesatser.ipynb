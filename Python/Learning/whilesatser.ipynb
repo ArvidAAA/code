{
 "metadata": {
  "language_info": {
   "codemirror_mode": {
    "name": "ipython",
    "version": 3
   },
   "file_extension": ".py",
   "mimetype": "text/x-python",
   "name": "python",
   "nbconvert_exporter": "python",
   "pygments_lexer": "ipython3",
   "version": "3.8.3-final"
  },
  "orig_nbformat": 2,
  "kernelspec": {
   "name": "Python 3.8.3 64-bit ('base': conda)",
   "display_name": "Python 3.8.3 64-bit ('base': conda)",
   "metadata": {
    "interpreter": {
     "hash": "f7e799fbc839b87c78744474d951de50a4d96b8b37bcdb1f73ef0ff2be85d734"
    }
   }
  }
 },
 "nbformat": 4,
 "nbformat_minor": 2,
 "cells": [
  {
   "cell_type": "code",
   "execution_count": null,
   "metadata": {},
   "outputs": [],
   "source": [
    "#while satser"
   ]
  },
  {
   "cell_type": "code",
   "execution_count": null,
   "metadata": {},
   "outputs": [],
   "source": [
    "#Uppgift 1\n",
    "s = 0\n",
    "\n",
    "while s < 101:\n",
    "    print(s, end = \" \")\n",
    "    s += 1"
   ]
  },
  {
   "cell_type": "code",
   "execution_count": null,
   "metadata": {},
   "outputs": [],
   "source": [
    "#Uppgift 2\n",
    "s = 1 \n",
    "\n",
    "while s < 100:\n",
    "    print(s, end = \" \")\n",
    "    s += 2"
   ]
  },
  {
   "cell_type": "code",
   "execution_count": null,
   "metadata": {
    "tags": []
   },
   "outputs": [],
   "source": [
    "#Uppgift 3\n",
    "\n"
   ]
  },
  {
   "cell_type": "code",
   "execution_count": null,
   "metadata": {},
   "outputs": [],
   "source": [
    "#Uppgift 4"
   ]
  },
  {
   "cell_type": "code",
   "execution_count": null,
   "metadata": {},
   "outputs": [],
   "source": [
    "#Uppgif 5\n",
    "\n",
    "\n",
    "#importerar random modulen så jag kan använda random.randint\n",
    "import random\n",
    "\n",
    "#variabel som fixar ett slumpmässigt tal mellan 1 och 100\n",
    "rätt = random.randint(1,100)\n",
    "\n",
    "#skapar en variabel så jag kan använda den före inputen\n",
    "tal = 0\n",
    "\n",
    "#while sats som säger att om variabeln tal inte är lika med det slumpmässiga nummret.\n",
    "while tal != rätt:\n",
    "  # ändrar variabeln tal till det du skriver in.\n",
    "  tal = float(input(\"Skriv in ett heltal mellan 0-100\"))\n",
    "  #om du svarar rätt\n",
    "  if tal == rätt:\n",
    "      print(f\"Du svarade rätt, talet är {tal}\")\n",
    "  #skriver om talet är större än det du skrev in\n",
    "  elif tal < rätt:\n",
    "      print(f\"Fel, talet är större {tal}\")\n",
    "  #skriver om talet är mindre än det du skrev in\n",
    "  elif tal > rätt:\n",
    "      print(f\"Fel talet är mindre {tal}\")"
   ]
  },
  {
   "cell_type": "code",
   "execution_count": null,
   "metadata": {},
   "outputs": [],
   "source": []
  }
 ]
}