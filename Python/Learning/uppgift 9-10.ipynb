{
 "metadata": {
  "language_info": {
   "codemirror_mode": {
    "name": "ipython",
    "version": 3
   },
   "file_extension": ".py",
   "mimetype": "text/x-python",
   "name": "python",
   "nbconvert_exporter": "python",
   "pygments_lexer": "ipython3",
   "version": "3.8.3-final"
  },
  "orig_nbformat": 2,
  "kernelspec": {
   "name": "python_defaultSpec_1600417854940",
   "display_name": "Python 3.8.3 64-bit ('base': conda)"
  }
 },
 "nbformat": 4,
 "nbformat_minor": 2,
 "cells": [
  {
   "cell_type": "code",
   "execution_count": null,
   "metadata": {
    "tags": []
   },
   "outputs": [],
   "source": [
    "# Uppgift 9\n",
    "\n",
    "tal = complex(input(\"Mata in ett tal\"))\n",
    "\n",
    "print(\"Det absolut värdet av det du mata in är:\")\n",
    "abs(tal)"
   ]
  },
  {
   "cell_type": "code",
   "execution_count": 18,
   "metadata": {
    "tags": []
   },
   "outputs": [
    {
     "output_type": "stream",
     "name": "stdout",
     "text": "Programmet löser en andragradsekvation av typen ax²+px+q=0\n\nTvå reella lösningar: x₁ = 2.0 och x₂ = -1.0\n"
    }
   ],
   "source": [
    "#Uppgift 10\n",
    "\n",
    "from math import *\n",
    "\n",
    "##########################################\n",
    "##Uppgift A\n",
    "##########################################\n",
    "#Har gjort uppgiften som att b = p och q = c\n",
    "\n",
    "\n",
    "print(\"Programmet löser en andragradsekvation av typen ax\\u00b2+px+q=0\\n\")\n",
    "a = float(1)\n",
    "p = float(-1)\n",
    "q = float(-2)\n",
    "\n",
    "\n",
    "p = p / a\n",
    "q = q / a\n",
    "\n",
    "\n",
    "d = (p / 2)**2 - q\n",
    "x = - p / 2\n",
    "\n",
    "if d < 0:\n",
    "    i = round(sqrt(-d),2)\n",
    "    print(\"Två komplexa lösningar: x\\u2081 = \" + str(round(x,2)) + \" + \" + str(i) + \"i och x\\u2082 = \" + str(round(x,2)) + \" - \" +str(i) + \"i.\")\n",
    "\n",
    "elif  d == 0: \n",
    "    print(\"En dubbelrot: x = \" + str(round(x,2)))\n",
    "else:\n",
    "    x1 = round(x+sqrt(d),2)\n",
    "    x2 = round(x-sqrt(d),2)\n",
    "    print(\"Två reella lösningar: x\\u2081 = \" + str(x1) + \" och x\\u2082 = \" + str(x2))"
   ]
  },
  {
   "cell_type": "code",
   "execution_count": 19,
   "metadata": {
    "tags": []
   },
   "outputs": [
    {
     "output_type": "stream",
     "name": "stdout",
     "text": "Programmet löser en andragradsekvation av typen ax²+px+q=0\n\nTvå komplexa lösningar: x₁ = 0.5 + 1.32i och x₂ = 0.5 - 1.32i.\n"
    }
   ],
   "source": [
    "#Uppgift 10\n",
    "\n",
    "from math import *\n",
    "\n",
    "##########################################\n",
    "##Uppgift B\n",
    "##########################################\n",
    "#Har gjort uppgiften som att b = p och q = c\n",
    "\n",
    "print(\"Programmet löser en andragradsekvation av typen ax\\u00b2+px+q=0\\n\")\n",
    "a = float(input(\"a = \"))\n",
    "p = float(input(\"b = \"))\n",
    "q = float(input(\"c = \"))\n",
    "\n",
    "\n",
    "p = p / a\n",
    "q = q / a\n",
    "\n",
    "\n",
    "d = (p / 2)**2 - q\n",
    "x = - p / 2\n",
    "\n",
    "if d < 0:\n",
    "    i = round(sqrt(-d),2)\n",
    "    print(\"Två komplexa lösningar: x\\u2081 = \" + str(round(x,2)) + \" + \" + str(i) + \"i och x\\u2082 = \" + str(round(x,2)) + \" - \" +str(i) + \"i.\")\n",
    "\n",
    "elif  d == 0: \n",
    "    print(\"En dubbelrot: x = \" + str(round(x,2)))\n",
    "else:\n",
    "    x1 = round(x+sqrt(d),2)\n",
    "    x2 = round(x-sqrt(d),2)\n",
    "    print(\"Två reella lösningar: x\\u2081 = \" + str(x1) + \" och x\\u2082 = \" + str(x2))"
   ]
  },
  {
   "cell_type": "code",
   "execution_count": null,
   "metadata": {},
   "outputs": [],
   "source": []
  }
 ]
}