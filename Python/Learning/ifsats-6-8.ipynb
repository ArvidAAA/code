{
 "metadata": {
  "language_info": {
   "codemirror_mode": {
    "name": "ipython",
    "version": 3
   },
   "file_extension": ".py",
   "mimetype": "text/x-python",
   "name": "python",
   "nbconvert_exporter": "python",
   "pygments_lexer": "ipython3",
   "version": "3.8.3-final"
  },
  "orig_nbformat": 2,
  "kernelspec": {
   "name": "python_defaultSpec_1600248042810",
   "display_name": "Python 3.8.3 64-bit ('base': conda)"
  }
 },
 "nbformat": 4,
 "nbformat_minor": 2,
 "cells": [
  {
   "cell_type": "code",
   "execution_count": 40,
   "metadata": {
    "tags": []
   },
   "outputs": [
    {
     "output_type": "stream",
     "name": "stdout",
     "text": "Du har angett vinklarna 50°, 80°, 50°\nDet är en triangel\nTriangel är inte rätvinklig\n"
    }
   ],
   "source": [
    "#Uppgift 6\n",
    "\n",
    "\n",
    "vinkel1 = int(input(\"Ange en vinkel 1\"))\n",
    "vinkel2 = int(input(\"Ange en vinke 2\"))\n",
    "vinkel3 = int(input(\"Ange en vinke 3\"))\n",
    "\n",
    "print(f\"Du har angett vinklarna {vinkel1}°, {vinkel2}°, {vinkel3}°\")\n",
    "\n",
    "tot = vinkel1 + vinkel2 + vinkel3\n",
    "\n",
    "if tot != 180:\n",
    "    print(\"Det är inte en triangel\")\n",
    "elif tot == 180:\n",
    "    print(\"Det är en triangel\")\n",
    "else:\n",
    "    print(\"Det är inte en triangel\")\n",
    "\n",
    "if tot == 180 and vinkel1 == 90 or vinkel2 == 90 or vinkel3 == 90:\n",
    "    print(\"Triangel är rätvinklig, den har en vinkel som är 90°\")\n",
    "elif tot != 180:\n",
    "    exit\n",
    "else:\n",
    "    print(\"Triangel är inte rätvinklig\")\n"
   ]
  },
  {
   "cell_type": "code",
   "execution_count": 54,
   "metadata": {
    "tags": []
   },
   "outputs": [
    {
     "output_type": "stream",
     "name": "stdout",
     "text": "Kordinaten ligger i origo\n"
    }
   ],
   "source": [
    "#Uppgift 7\n",
    "\n",
    "x = int(input(\"Ange x kordinaten: \"))\n",
    "y = int(input(\"Ange y kordinaten: \"))\n",
    "\n",
    "\n",
    "if x > 0 and y > 0:\n",
    "    print(\"Kordinaten ligger i Kvadrant 1\")\n",
    "elif x < 0 and y > 0:\n",
    "    print(\"Kordinaten ligger i Kvadrant 2\")\n",
    "elif x < 0 and y < 0:\n",
    "    print(\"Kordinaten ligger i Kvadrant 3\")\n",
    "elif x > 0 and y < 0:\n",
    "    print(\"Kordinaten ligger i Kvadrant 4\")\n",
    "elif x == 0 and y == 0:\n",
    "    print(\"Kordinaten ligger i origo\")\n"
   ]
  },
  {
   "cell_type": "code",
   "execution_count": 62,
   "metadata": {
    "tags": []
   },
   "outputs": [
    {
     "output_type": "stream",
     "name": "stdout",
     "text": "Vikten på din väska är 1 och dimmensionerna på din väska är 1cm x 1cm x 1cm.\nDin väska får max väga 8kg och max godkäna dimmensioner är 55 x 40 x 23 cm\nDin väska är godkänd\n"
    }
   ],
   "source": [
    "#Uppgift 8\n",
    "\n",
    "vikt = int(input(\"Ange vikten på din väskan\"))\n",
    "bredd = int(input(\"Ange bredden på din väskan\"))\n",
    "längd = int(input(\"Ange lägden på din väskan\"))\n",
    "höjd = int(input(\"Ange höjden på din väskan\"))\n",
    "\n",
    "print(f\"Vikten på din väska är {vikt}kg och dimmensionerna på din väska är {bredd}cm x {längd}cm x {höjd}cm.\")\n",
    "\n",
    "if vikt > 8 or bredd > 55 or längd > 40 or höjd > 23:\n",
    "    print(\"Din väska är inte godkänd\")\n",
    "else:\n",
    "    print(\"Din väska är godkänd\")"
   ]
  },
  {
   "cell_type": "code",
   "execution_count": null,
   "metadata": {},
   "outputs": [],
   "source": []
  }
 ]
}
