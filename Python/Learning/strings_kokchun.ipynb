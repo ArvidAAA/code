{
 "metadata": {
  "language_info": {
   "codemirror_mode": {
    "name": "ipython",
    "version": 3
   },
   "file_extension": ".py",
   "mimetype": "text/x-python",
   "name": "python",
   "nbconvert_exporter": "python",
   "pygments_lexer": "ipython3",
   "version": "3.8.3-final"
  },
  "orig_nbformat": 2,
  "kernelspec": {
   "name": "python3",
   "display_name": "Python 3.8.3 64-bit (conda)",
   "metadata": {
    "interpreter": {
     "hash": "f7e799fbc839b87c78744474d951de50a4d96b8b37bcdb1f73ef0ff2be85d734"
    }
   }
  }
 },
 "nbformat": 4,
 "nbformat_minor": 2,
 "cells": [
  {
   "cell_type": "code",
   "execution_count": null,
   "metadata": {},
   "outputs": [],
   "source": [
    "#Strängar Kokchun ## slutfört av Arvid Anderson"
   ]
  },
  {
   "cell_type": "code",
   "execution_count": 19,
   "metadata": {},
   "outputs": [
    {
     "output_type": "stream",
     "name": "stdout",
     "text": [
      "Antal bokstäver i namnet 3\n"
     ]
    }
   ],
   "source": [
    "#Uppgift 1\n",
    "\n",
    "\n",
    "namn = input(\"Skriv in ditt namn\")\n",
    "\n",
    "#  len räknar antal bokstäver i namnet\n",
    "print(f\"Antal bokstäver i namnet {len(namn)}\")"
   ]
  },
  {
   "cell_type": "code",
   "execution_count": 16,
   "metadata": {},
   "outputs": [
    {
     "output_type": "stream",
     "name": "stdout",
     "text": [
      "Antal ord i meningen 15\n"
     ]
    }
   ],
   "source": [
    "#Uppgift 2\n",
    "\n",
    "# En bild säger mer än tusen ord, en matematisk formel säger ner än tusen bilder\n",
    "\n",
    "mening = \"En bild säger mer än tusen ord, en matematisk formel säger ner än tusen bilder\"\n",
    "\n",
    "#Splittar upp orden vid varje mellanslag och lägger in dom i en lista vid namn antal\n",
    "antal = mening.split(\" \")\n",
    "\n",
    "#Printar anatal ord i i meningen och räknar dom med len\n",
    "print(f\"Antal ord i meningen {len(antal)}\")"
   ]
  },
  {
   "cell_type": "code",
   "execution_count": 20,
   "metadata": {},
   "outputs": [
    {
     "output_type": "stream",
     "name": "stdout",
     "text": [
      "Ditt ord är inte ett palindrom\n"
     ]
    }
   ],
   "source": [
    "#Uppgift 3\n",
    "#a)\n",
    "\n",
    "#Inmatning\n",
    "dittord = (input(\"Vänligen skriv in ditt ord\"))\n",
    "\n",
    "#Kolla om det är lika dant banklänges som framlänges.\n",
    "if dittord == (dittord[::-1]):\n",
    "    print(f\"Ditt ord är ett palindrom: {dittord} : {(dittord[::-1])} \")\n",
    "else:\n",
    "    print(\"Ditt ord är inte ett palindrom\")"
   ]
  },
  {
   "cell_type": "code",
   "execution_count": 48,
   "metadata": {},
   "outputs": [
    {
     "output_type": "stream",
     "name": "stdout",
     "text": [
      "Ditt ord är ett palindrom: nitalarbralatin : nitalarbralatin \n"
     ]
    }
   ],
   "source": [
    "\n",
    "#Uppgift 3\n",
    "#b)\n",
    "import re\n",
    "#Inmatning\n",
    "dittordnosplit = input(str(\"Vänligen skriv in ditt ord\"))\n",
    "\n",
    "\n",
    "\n",
    "\n",
    "\n",
    "#Kolla om det är lika dant banklänges som framlänges.\n",
    "if dittordnosplit == (dittordnosplit[::-1]):\n",
    "    print(f\"Ditt ord är ett palindrom: {dittordnosplit} : {(dittordnosplit[::-1])} \")\n",
    "else:\n",
    "    print(\"Ditt ord är inte ett palindrom\")"
   ]
  },
  {
   "cell_type": "code",
   "execution_count": null,
   "metadata": {},
   "outputs": [],
   "source": []
  }
 ]
}