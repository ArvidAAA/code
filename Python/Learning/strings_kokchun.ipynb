{
 "metadata": {
  "language_info": {
   "codemirror_mode": {
    "name": "ipython",
    "version": 3
   },
   "file_extension": ".py",
   "mimetype": "text/x-python",
   "name": "python",
   "nbconvert_exporter": "python",
   "pygments_lexer": "ipython3",
   "version": "3.8.6-final"
  },
  "orig_nbformat": 2,
  "kernelspec": {
   "name": "python38564bitd476f70fa5194c0696597af295d541dd",
   "display_name": "Python 3.8.5 64-bit"
  }
 },
 "nbformat": 4,
 "nbformat_minor": 2,
 "cells": [
  {
   "cell_type": "code",
   "execution_count": null,
   "metadata": {},
   "outputs": [],
   "source": [
    "#Strängar Kokchun ## slutfört av Arvid Anderson"
   ]
  },
  {
   "cell_type": "code",
   "execution_count": 19,
   "metadata": {},
   "outputs": [
    {
     "output_type": "stream",
     "name": "stdout",
     "text": [
      "Antal bokstäver i namnet 3\n"
     ]
    }
   ],
   "source": [
    "#Uppgift 1\n",
    "\n",
    "\n",
    "namn = input(\"Skriv in ditt namn\")\n",
    "\n",
    "#  len räknar\n",
    "print(f\"Antal bokstäver i namnet {len(namn)}\")"
   ]
  },
  {
   "cell_type": "code",
   "execution_count": 16,
   "metadata": {},
   "outputs": [
    {
     "output_type": "stream",
     "name": "stdout",
     "text": [
      "Antal ord i meningen 15\n"
     ]
    }
   ],
   "source": [
    "#Uppgift 2\n",
    "\n",
    "# En bild säger mer än tusen ord, en matematisk formel säger ner än tusen bilder\n",
    "\n",
    "mening = \"En bild säger mer än tusen ord, en matematisk formel säger ner än tusen bilder\"\n",
    "\n",
    "#Splittar upp orden vid varje mellanslag och lägger in dom i en lista vid namn antal\n",
    "antal = mening.split(\" \")\n",
    "\n",
    "print(f\"Antal ord i meningen {len(antal)}\")"
   ]
  },
  {
   "cell_type": "code",
   "execution_count": null,
   "metadata": {},
   "outputs": [],
   "source": [
    "#Uppgift 3\n",
    "\n"
   ]
  }
 ]
}