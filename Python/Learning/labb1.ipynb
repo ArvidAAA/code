{
 "metadata": {
  "language_info": {
   "codemirror_mode": {
    "name": "ipython",
    "version": 3
   },
   "file_extension": ".py",
   "mimetype": "text/x-python",
   "name": "python",
   "nbconvert_exporter": "python",
   "pygments_lexer": "ipython3",
   "version": "3.8.3-final"
  },
  "orig_nbformat": 2,
  "kernelspec": {
   "name": "Python 3.8.3 64-bit ('base': conda)",
   "display_name": "Python 3.8.3 64-bit ('base': conda)",
   "metadata": {
    "interpreter": {
     "hash": "f7e799fbc839b87c78744474d951de50a4d96b8b37bcdb1f73ef0ff2be85d734"
    }
   }
  }
 },
 "nbformat": 4,
 "nbformat_minor": 2,
 "cells": [
  {
   "cell_type": "code",
   "execution_count": 29,
   "metadata": {},
   "outputs": [
    {
     "output_type": "execute_result",
     "data": {
      "text/plain": [
       "5.0"
      ]
     },
     "metadata": {},
     "execution_count": 29
    }
   ],
   "source": [
    "#1:a\n",
    "#Beräkna avståndet från origo till (x, y) = (0.5, 0.5)\n",
    "\n",
    "#Tänker använda mig utav Pytagoras Sats.\n",
    "\n",
    "#Math modulen för att använda mig utav roten ur.\n",
    "import math\n",
    "\n",
    "x = 0.5\n",
    "y = 0.5\n",
    "\n",
    "math.sqrt(x**2 + y**2)\n"
   ]
  },
  {
   "cell_type": "code",
   "execution_count": 30,
   "metadata": {},
   "outputs": [
    {
     "output_type": "execute_result",
     "data": {
      "text/plain": [
       "1.4142135623730951"
      ]
     },
     "metadata": {},
     "execution_count": 30
    }
   ],
   "source": [
    "#1:b\n",
    "#Beräkna avståndet från origo till (x, y) = (1, 1)\n",
    "\n",
    "###Samma tänk som föregående uppgift###\n",
    "\n",
    "#Tänker använda mig utav Pytagoras Sats.\n",
    "\n",
    "#Math modulen för att använda mig utav roten ur.\n",
    "import math\n",
    "\n",
    "x = 1\n",
    "y = 1\n",
    "\n",
    "math.sqrt(x**2 + y**2)\n"
   ]
  },
  {
   "cell_type": "code",
   "execution_count": 31,
   "metadata": {},
   "outputs": [
    {
     "output_type": "execute_result",
     "data": {
      "text/plain": [
       "0.7071067811865476"
      ]
     },
     "metadata": {},
     "execution_count": 31
    }
   ],
   "source": [
    "#1:c\n",
    "#Beräkna avståndet från origo till (x, y) = (0.5, −0.5)\n",
    "\n",
    "###Samma tänk som föregående uppgift###\n",
    "\n",
    "#Tänker använda mig utav Pytagoras Sats.\n",
    "\n",
    "#Math modulen för att använda mig utav roten ur.\n",
    "import math\n",
    "\n",
    "x = 0.5\n",
    "y = -0.5\n",
    "\n",
    "math.sqrt(x**2 + y**2)"
   ]
  },
  {
   "cell_type": "code",
   "execution_count": null,
   "metadata": {},
   "outputs": [],
   "source": []
  }
 ]
}