{
 "metadata": {
  "language_info": {
   "codemirror_mode": {
    "name": "ipython",
    "version": 3
   },
   "file_extension": ".py",
   "mimetype": "text/x-python",
   "name": "python",
   "nbconvert_exporter": "python",
   "pygments_lexer": "ipython3",
   "version": "3.8.6-final"
  },
  "orig_nbformat": 2,
  "kernelspec": {
   "name": "Python 3.8.6 64-bit",
   "display_name": "Python 3.8.6 64-bit",
   "metadata": {
    "interpreter": {
     "hash": "2db524e06e9f5f4ffedc911c917cb75e12dbc923643829bf417064a77eb14d37"
    }
   }
  }
 },
 "nbformat": 4,
 "nbformat_minor": 2,
 "cells": [
  {
   "cell_type": "code",
   "execution_count": null,
   "metadata": {},
   "outputs": [],
   "source": [
    "#1:a\n",
    "#Beräkna avståndet från origo till (x, y) = (0.5, 0.5)\n",
    "\n",
    "#Tänker använda mig utav Pytagoras Sats.\n",
    "\n",
    "#Math modulen för att använda mig utav roten ur.\n",
    "import math\n",
    "\n",
    "x = 0.5\n",
    "y = 0.5\n",
    "\n",
    "math.sqrt(x**2 + y**2)\n"
   ]
  },
  {
   "cell_type": "code",
   "execution_count": null,
   "metadata": {},
   "outputs": [],
   "source": [
    "#1:b\n",
    "#Beräkna avståndet från origo till (x, y) = (1, 1)\n",
    "\n",
    "###Samma tänk som föregående uppgift###\n",
    "\n",
    "#Tänker använda mig utav Pytagoras Sats.\n",
    "\n",
    "#Math modulen för att använda mig utav roten ur.\n",
    "import math\n",
    "\n",
    "x = 1\n",
    "y = 1\n",
    "\n",
    "math.sqrt(x**2 + y**2)\n"
   ]
  },
  {
   "cell_type": "code",
   "execution_count": null,
   "metadata": {},
   "outputs": [],
   "source": [
    "#1:c\n",
    "#Beräkna avståndet från origo till (x, y) = (0.5, −0.5)\n",
    "\n",
    "###Samma tänk som föregående uppgift###\n",
    "\n",
    "#Tänker använda mig utav Pytagoras Sats.\n",
    "\n",
    "#Math modulen för att använda mig utav roten ur.\n",
    "import math\n",
    "\n",
    "x = 0.5\n",
    "y = -0.5\n",
    "\n",
    "math.sqrt(x**2 + y**2)"
   ]
  },
  {
   "cell_type": "code",
   "execution_count": null,
   "metadata": {},
   "outputs": [],
   "source": [
    "#1:d\n",
    "\n",
    "#Simulera många punkter slumpmässigt mellan -1 och 1 för x- och y-koordinater,\n",
    "#genom att använda funktionen random.uniform(-1,1).\n",
    "\n",
    "\n",
    "\n",
    "import random\n",
    "\n",
    "\n",
    "#variabler som innehåller värden\n",
    "x = -1\n",
    "y = 1\n",
    "\n",
    "\n",
    "#Gör så jag får 10 slumpmässiga tal\n",
    "for s in range(10):\n",
    "    koordinat1 = random.uniform(x, y)\n",
    "    koordinat2 = random.uniform(x, y)\n",
    "    print(f\"{koordinat1}, {koordinat2}\")\n"
   ]
  },
  {
   "cell_type": "code",
   "execution_count": 143,
   "metadata": {},
   "outputs": [
    {
     "output_type": "stream",
     "name": "stdout",
     "text": [
      "0.510400779319131, 0.9263586683263139\n \n-0.8203987912543524, -0.08739202345849972\n \n0.5996824062377462, 0.3415705585160016\n \n0.193330842079394, 0.7105847585638121\n \n-0.6121118434778035, 0.4211123903831926\n \n0.11739899849624869, 0.6911386051674684\n \n-0.742983010397485, 0.5021848362202181\n \n0.8873452630867347, 0.5411480470257086\n \n-0.5761279803757413, 0.8655194897519485\n \n0.3958025913387635, -0.5268275469255255\n \n7 punkter hammnar inom cirkeln\n0.7 dividerat antal simulerade punkter med antal inom cirkeln\n"
     ]
    }
   ],
   "source": [
    "#1:e\n",
    "\n",
    "#Räkna antalet punkter som hamnar inne i cirkeln och dividera med antalet simule-\n",
    "#rade punkter.\n",
    "\n",
    "# Om: x^2 + y^2 < radien^2 så är punkten i cirkeln\n",
    "\n",
    "#Importerar nödvändiga moduler.\n",
    "import random\n",
    "import math\n",
    "\n",
    "\n",
    "#variabler som innehåller värden\n",
    "x = -1\n",
    "y = 1\n",
    "\n",
    "antal = 10\n",
    "\n",
    "punktercirkel = 0\n",
    "\n",
    "#Gör så jag får 10 slumpmässiga tal\n",
    "for s in range(antal):\n",
    "    koordinat1 = random.uniform(x, y)\n",
    "    koordinat2 = random.uniform(x, y)\n",
    "    print(f\"{koordinat1}, {koordinat2}\")\n",
    "    print(\" \")\n",
    "\n",
    "    #Kollar så punkterna innanför cirkeln eftersom att radien är 1\n",
    "    if koordinat1**2 + koordinat2**2 < 1:\n",
    "        punktercirkel += 1\n",
    "\n",
    "\n",
    "#printar ut hur många punkter som hammnar inom cirkeln\n",
    "print(f\"{punktercirkel} punkter hammnar inom cirkeln\")\n",
    "\n",
    "#dividera med antalet simule-rade punkter.\n",
    "print(f\"{punktercirkel / antal} dividerat antal simulerade punkter med antal inom cirkeln\")"
   ]
  },
  {
   "cell_type": "code",
   "execution_count": null,
   "metadata": {},
   "outputs": [],
   "source": []
  }
 ]
}