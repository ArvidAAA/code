{
 "metadata": {
  "language_info": {
   "codemirror_mode": {
    "name": "ipython",
    "version": 3
   },
   "file_extension": ".py",
   "mimetype": "text/x-python",
   "name": "python",
   "nbconvert_exporter": "python",
   "pygments_lexer": "ipython3",
   "version": "3.8.5-final"
  },
  "orig_nbformat": 2,
  "kernelspec": {
   "name": "python38564bitd476f70fa5194c0696597af295d541dd",
   "display_name": "Python 3.8.5 64-bit"
  }
 },
 "nbformat": 4,
 "nbformat_minor": 2,
 "cells": [
  {
   "cell_type": "code",
   "execution_count": null,
   "metadata": {
    "tags": []
   },
   "outputs": [],
   "source": [
    "#Uppgift 1\n",
    "\n",
    "tal = int(input(\"Mata in ett heltal för att avgöra om det är posetivt, negativt eller noll\"))\n",
    "\n",
    "if tal > 0:\n",
    "   print(\"Talets värde är posetivt\")\n",
    "elif tal == 0:\n",
    "   print(\"Talet väre är 0\")\n",
    "else:\n",
    "   print(\"Talets värde är negativt\")"
   ]
  },
  {
   "cell_type": "code",
   "execution_count": 44,
   "metadata": {
    "tags": []
   },
   "outputs": [
    {
     "output_type": "stream",
     "name": "stdout",
     "text": "Talet är udda\nTalet är ej delbart med 5\n"
    }
   ],
   "source": [
    "#Uppgift 2\n",
    "\n",
    "tal = int(input(\"Mata in ett heltal för att avgöra om det är jämnt, udda eller delbart med 5\"))\n",
    "\n",
    "if tal % 2 == 0:\n",
    "    print(\"Talet är jämnt\")\n",
    "else:\n",
    "    print(\"Talet är udda\")\n",
    "\n",
    "if tal % 5 == 0:\n",
    "    print(\"Talet är delbart med 5\")\n",
    "else:\n",
    "    print(\"Talet är ej delbart med 5\")"
   ]
  },
  {
   "cell_type": "code",
   "execution_count": 63,
   "metadata": {
    "tags": []
   },
   "outputs": [
    {
     "output_type": "stream",
     "name": "stdout",
     "text": "[10, 100, 1000, 1000]\nDet största talet är 1000\n"
    }
   ],
   "source": [
    "#Uppgift 3\n",
    "\n",
    "tallista = []\n",
    "\n",
    "tal1 = int(input(\"Mata in ett heltal\"))\n",
    "tal2 = int(input(\"Mata in ett heltal\"))\n",
    "tal3 = int(input(\"Mata in ett heltal\"))\n",
    "tal4 = int(input(\"Mata in ett heltal\"))\n",
    "\n",
    "tallista.append(tal1)\n",
    "tallista.append(tal2)\n",
    "tallista.append(tal3)\n",
    "tallista.append(tal4)\n",
    "\n",
    "tallista.sort()\n",
    "\n",
    "print(tallista)\n",
    "print(\"Det största talet är\", tallista[-1])\n"
   ]
  },
  {
   "cell_type": "code",
   "execution_count": 92,
   "metadata": {
    "tags": []
   },
   "outputs": [
    {
     "output_type": "stream",
     "name": "stdout",
     "text": "Vinkel är konvex\n"
    }
   ],
   "source": [
    "#Uppgift 4\n",
    "\n",
    "vinkel = int(input(\"Mata in en vinkel\"))\n",
    "\n",
    "if vinkel < 90 and vinkel > 0:\n",
    "    print(\"Vilken är spetsig\")\n",
    "elif vinkel == 90:\n",
    "    print(\"Vinkeln är rät\")\n",
    "elif vinkel > 90 and vinkel < 180:\n",
    "    print(\"Vilken är trubbig\")\n",
    "elif vinkel == 360:\n",
    "    print(\"Vilken är hel\")\n",
    "elif vinkel > 180 and vinkel <360:\n",
    "    print(\"Vinkel är konvex\")\n",
    "else:\n",
    "    print(\"Vinkeln är inte spetsig, rät, hel, konvex eller trubbig\")"
   ]
  },
  {
   "cell_type": "code",
   "execution_count": 106,
   "metadata": {
    "tags": []
   },
   "outputs": [
    {
     "output_type": "stream",
     "name": "stdout",
     "text": "Cirkelns omkrets = 0.0\nCrikeln area = 0.0\nRadien är negativ\n"
    }
   ],
   "source": [
    "#Uppgift 5\n",
    "\n",
    "PI = 3.14\n",
    "radie = float(input('Mata in radien på cirkclen: '))\n",
    "\n",
    "omkrets = 2 * PI * radie\n",
    "area = PI * radie * radie\n",
    "\n",
    "print(f\"Cirkelns omkrets = {omkrets}\")\n",
    "print(f\"Crikeln area = {area}\")\n",
    "\n",
    "if radie > 0:\n",
    "    print(\"Radien är posetiv\")\n",
    "else:\n",
    "    print(\"Radien är negativ\")"
   ]
  },
  {
   "cell_type": "code",
   "execution_count": null,
   "metadata": {},
   "outputs": [],
   "source": [
    "#Uppgift 6\n",
    "\n"
   ]
  }
 ]
}