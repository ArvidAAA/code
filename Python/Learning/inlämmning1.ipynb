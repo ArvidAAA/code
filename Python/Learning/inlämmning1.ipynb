{
 "metadata": {
  "language_info": {
   "codemirror_mode": {
    "name": "ipython",
    "version": 3
   },
   "file_extension": ".py",
   "mimetype": "text/x-python",
   "name": "python",
   "nbconvert_exporter": "python",
   "pygments_lexer": "ipython3",
   "version": "3.8.5-final"
  },
  "orig_nbformat": 2,
  "kernelspec": {
   "name": "python38564bitd476f70fa5194c0696597af295d541dd",
   "display_name": "Python 3.8.5 64-bit"
  }
 },
 "nbformat": 4,
 "nbformat_minor": 2,
 "cells": [
  {
   "cell_type": "markdown",
   "metadata": {},
   "source": [
    "# Lektion 7 semptember 2020 "
   ]
  },
  {
   "cell_type": "code",
   "execution_count": null,
   "metadata": {
    "tags": []
   },
   "outputs": [],
   "source": [
    "#Kelvin till Celcius\n",
    "variabel1 = float(input(\"Ange Kelvin för att omvandla till Celcius: \"))\n",
    "variabel2 = variabel1 - 273.15\n",
    "print(f\"{variabel1} K är {variabel2} °C\")"
   ]
  },
  {
   "cell_type": "code",
   "execution_count": null,
   "metadata": {
    "tags": []
   },
   "outputs": [],
   "source": [
    "#Celcius till Kelvin\n",
    "variabel1 = float(input(\"Ange Celcius för att omvandla till Kelvin: \"))\n",
    "variabel2 = variabel1 + 273.15\n",
    "print(f\"{variabel1} °C är {variabel2} K\")"
   ]
  },
  {
   "cell_type": "code",
   "execution_count": null,
   "metadata": {
    "tags": []
   },
   "outputs": [],
   "source": [
    "#Västtrafik\n",
    "\n",
    "single = 30\n",
    "monthly = 775\n",
    "\n",
    "dininput = float(input(\"Hur många gånger åker du med västtrafik per månad? \"))\n",
    "\n",
    "rakning = single * dininput\n",
    "\n",
    "print(f\"Just nu åker du för {rakning} kr i månaden!\")\n",
    "\n",
    "if rakning > 775:\n",
    "    print(\"Det lönar sig för dig att köpa ett månandskort för 775kr istället!\")\n",
    "else:\n",
    "    print(\"Du borde fortsätta att köpa engångsbiljetter. Ett månadskort lönar sig inte för dig.\")"
   ]
  }
 ]
}