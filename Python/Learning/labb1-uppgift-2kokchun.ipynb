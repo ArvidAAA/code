{
 "metadata": {
  "language_info": {
   "codemirror_mode": {
    "name": "ipython",
    "version": 3
   },
   "file_extension": ".py",
   "mimetype": "text/x-python",
   "name": "python",
   "nbconvert_exporter": "python",
   "pygments_lexer": "ipython3",
   "version": "3.8.3-final"
  },
  "orig_nbformat": 2,
  "kernelspec": {
   "name": "python3",
   "display_name": "Python 3"
  }
 },
 "nbformat": 4,
 "nbformat_minor": 2,
 "cells": [
  {
   "cell_type": "code",
   "execution_count": null,
   "metadata": {},
   "outputs": [],
   "source": [
    "#När Kokchun gick i mellanstadiet fick klassen spela ett spel som heter Burr för att träna\n",
    "#på multiplikationstabellen. Det går ut på att varje elev räknar upp heltal tills dess man\n",
    "#hamnar på en multipel av ett tal. Då ska man istället säga ”Burr” och nästa elev fortsätter\n",
    "#räkna. Ni ska återskapa det här spelet med hjälp av Python.\n",
    "#(a) Låt programmet skriva ut tal från 1-100\n",
    "#(b) För varje multipel av 5 ska programmet skriva ut ”Burr”\n",
    "#(c) Låt användaren mata in ett tal vars multiplar blir ”Burr”\n",
    "#(d) Låt användaren även mata in ett tal vars multiplar blir ”Birr”\n",
    "#(e) Designa nu ett program som låter användaren välja start, slut, multipel för ”Burr”\n",
    "#och multipel för ”Birr”. Programmet ska räkna upp antalet ”Burr”, ”Birr” och ”Burr\n",
    "#Birr”\n",
    "#(f) Ge förslag på hur man kan utveckla programmet vidare och ge det ett försök själv."
   ]
  },
  {
   "cell_type": "code",
   "execution_count": 4,
   "metadata": {},
   "outputs": [
    {
     "output_type": "stream",
     "name": "stdout",
     "text": [
      "1\n\n2\n\n3\n\n4\n\n5\n\n6\n\n7\n\n8\n\n9\n\n10\n\n11\n\n12\n\n13\n\n14\n\n15\n\n16\n\n17\n\n18\n\n19\n\n20\n\n21\n\n22\n\n23\n\n24\n\n25\n\n26\n\n27\n\n28\n\n29\n\n30\n\n31\n\n32\n\n33\n\n34\n\n35\n\n36\n\n37\n\n38\n\n39\n\n40\n\n41\n\n42\n\n43\n\n44\n\n45\n\n46\n\n47\n\n48\n\n49\n\n50\n\n51\n\n52\n\n53\n\n54\n\n55\n\n56\n\n57\n\n58\n\n59\n\n60\n\n61\n\n62\n\n63\n\n64\n\n65\n\n66\n\n67\n\n68\n\n69\n\n70\n\n71\n\n72\n\n73\n\n74\n\n75\n\n76\n\n77\n\n78\n\n79\n\n80\n\n81\n\n82\n\n83\n\n84\n\n85\n\n86\n\n87\n\n88\n\n89\n\n90\n\n91\n\n92\n\n93\n\n94\n\n95\n\n96\n\n97\n\n98\n\n99\n\n100\n\n"
     ]
    }
   ],
   "source": [
    "#Uppgift 2\n",
    "\n",
    "#(a) Låt programmet skriva ut tal från 1-100\n",
    "#Variabler för foor loop printa 1-100 (detta behövs igentligen inte men jag föredrar att använda variabler)\n",
    "writestart = 1\n",
    "writeend = 101\n",
    "for onetohundred in range(writestart, writeend):\n",
    "    #Printar 1-100\n",
    "    print(onetohundred)\n",
    "    #Gör ett mellanrum\n",
    "    print(\"\")\n",
    "\n",
    "    "
   ]
  },
  {
   "cell_type": "code",
   "execution_count": null,
   "metadata": {},
   "outputs": [],
   "source": []
  }
 ]
}