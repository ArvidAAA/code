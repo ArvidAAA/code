{
 "metadata": {
  "language_info": {
   "codemirror_mode": {
    "name": "ipython",
    "version": 3
   },
   "file_extension": ".py",
   "mimetype": "text/x-python",
   "name": "python",
   "nbconvert_exporter": "python",
   "pygments_lexer": "ipython3",
   "version": "3.8.6-final"
  },
  "orig_nbformat": 2,
  "kernelspec": {
   "name": "Python 3.8.6 64-bit",
   "display_name": "Python 3.8.6 64-bit",
   "metadata": {
    "interpreter": {
     "hash": "2db524e06e9f5f4ffedc911c917cb75e12dbc923643829bf417064a77eb14d37"
    }
   }
  }
 },
 "nbformat": 4,
 "nbformat_minor": 2,
 "cells": [
  {
   "cell_type": "code",
   "execution_count": null,
   "metadata": {},
   "outputs": [],
   "source": [
    "#När Kokchun gick i mellanstadiet fick klassen spela ett spel som heter Burr för att träna\n",
    "#på multiplikationstabellen. Det går ut på att varje elev räknar upp heltal tills dess man\n",
    "#hamnar på en multipel av ett tal. Då ska man istället säga ”Burr” och nästa elev fortsätter\n",
    "#räkna. Ni ska återskapa det här spelet med hjälp av Python.\n",
    "#(a) Låt programmet skriva ut tal från 1-100\n",
    "#(b) För varje multipel av 5 ska programmet skriva ut ”Burr”\n",
    "#(c) Låt användaren mata in ett tal vars multiplar blir ”Burr”\n",
    "#(d) Låt användaren även mata in ett tal vars multiplar blir ”Birr”\n",
    "#(e) Designa nu ett program som låter användaren välja start, slut, multipel för ”Burr”\n",
    "#och multipel för ”Birr”. Programmet ska räkna upp antalet ”Burr”, ”Birr” och ”Burr\n",
    "#Birr”\n",
    "#(f) Ge förslag på hur man kan utveckla programmet vidare och ge det ett försök själv.\n",
    "\n",
    "#Uppgift 2"
   ]
  },
  {
   "cell_type": "code",
   "execution_count": null,
   "metadata": {},
   "outputs": [],
   "source": [
    "\n",
    "\n",
    "#(a) \n",
    "\n",
    "#sakapar foor loop\n",
    "for i in range(1, 101):\n",
    "    #Printar 1-100\n",
    "    print(i)\n",
    "    #Gör ett mellanrum\n",
    "    print(\"\")\n",
    "\n",
    " "
   ]
  },
  {
   "cell_type": "code",
   "execution_count": null,
   "metadata": {},
   "outputs": [],
   "source": [
    "\n",
    "\n",
    "#(b) \n",
    "\n",
    "\n",
    "#Variabel i = 0\n",
    "i = 0\n",
    "for i in range(1,101):\n",
    "    #Om talet delat med 5 blir 0 skriv ut burr\n",
    "    if i%5==0:\n",
    "        #Printar burr\n",
    "        print(\"Burr\")\n",
    "    else:\n",
    "        #Om talet ej är delbart med 5 händer inget listan printas ut som vanligt\n",
    "        print(i)"
   ]
  },
  {
   "cell_type": "code",
   "execution_count": 1,
   "metadata": {},
   "outputs": [
    {
     "output_type": "stream",
     "name": "stdout",
     "text": [
      "1\nBurr\n3\nBurr\n5\nBurr\n7\nBurr\n9\nBurr\n11\nBurr\n13\nBurr\n15\nBurr\n17\nBurr\n19\nBurr\n21\nBurr\n23\nBurr\n25\nBurr\n27\nBurr\n29\nBurr\n31\nBurr\n33\nBurr\n35\nBurr\n37\nBurr\n39\nBurr\n41\nBurr\n43\nBurr\n45\nBurr\n47\nBurr\n49\nBurr\n51\nBurr\n53\nBurr\n55\nBurr\n57\nBurr\n59\nBurr\n61\nBurr\n63\nBurr\n65\nBurr\n67\nBurr\n69\nBurr\n71\nBurr\n73\nBurr\n75\nBurr\n77\nBurr\n79\nBurr\n81\nBurr\n83\nBurr\n85\nBurr\n87\nBurr\n89\nBurr\n91\nBurr\n93\nBurr\n95\nBurr\n97\nBurr\n99\nBurr\n"
     ]
    }
   ],
   "source": [
    "#(c) \n",
    "\n",
    "#input burr\n",
    "multiple = int(input(\"Vänligen in mata din multiple för burr\"))\n",
    "\n",
    "i = 0\n",
    "for i in range(1,101):\n",
    "    #Om talet delat med 5 blir 0 skriv ut burr\n",
    "    #Istället för 5 så har kollar jag om jag delar I med min variabel multiple att det blir = 0\n",
    "    if i%multiple==0:\n",
    "        #Printar burr\n",
    "        print(\"Burr\")\n",
    "    else:\n",
    "        #Om talet ej är delbart med 5 händer inget listan printas ut som vanligt\n",
    "        print(i)"
   ]
  },
  {
   "cell_type": "code",
   "execution_count": 2,
   "metadata": {},
   "outputs": [
    {
     "output_type": "stream",
     "name": "stdout",
     "text": [
      "1\nBurr\n3\nBurr\n5\nBurr\n7\nBurr\n9\nBurr\n11\nBurr\n13\nBurr\n15\nBurr\n17\nBurr\n19\nBurr\n21\nBurr\n23\nBurr\n25\nBurr\n27\nBurr\n29\nBurr\n31\nBurr\n33\nBurr\n35\nBurr\n37\nBurr\n39\nBurr\n41\nBurr\n43\nBurr\n45\nBurr\n47\nBurr\n49\nBurr\n51\nBurr\n53\nBurr\n55\nBurr\n57\nBurr\n59\nBurr\n61\nBurr\n63\nBurr\n65\nBurr\n67\nBurr\n69\nBurr\n71\nBurr\n73\nBurr\n75\nBurr\n77\nBurr\n79\nBurr\n81\nBurr\n83\nBurr\n85\nBurr\n87\nBurr\n89\nBurr\n91\nBurr\n93\nBurr\n95\nBurr\n97\nBurr\n99\nBurr\n"
     ]
    }
   ],
   "source": [
    "#(d) \n",
    "\n",
    "#input burr\n",
    "multiple = int(input(\"Vänligen in mata din multiple för burr\"))\n",
    "#input birr\n",
    "danks = int(input(\"Vänligen in mata din multiple för birr\"))\n",
    "#Variabel i = 0\n",
    "i = 0\n",
    "for i in range(1,101):\n",
    "    #Om talet delat med 5 blir 0 skriv ut burr\n",
    "    #Istället för 5 så har kollar jag om jag delar I med min variabel multiple att det blir = 0\n",
    "    if i%multiple==0:\n",
    "        #Printar burr\n",
    "        print(\"Burr\")\n",
    "    elif i%danks==0:\n",
    "        #Printar birr\n",
    "        print(\"Birr\")\n",
    "    else:\n",
    "        #Om talet ej är delbart med 5 händer inget listan printas ut som vanligt\n",
    "        print(i)"
   ]
  },
  {
   "cell_type": "code",
   "execution_count": 13,
   "metadata": {},
   "outputs": [
    {
     "output_type": "stream",
     "name": "stdout",
     "text": [
      "Burr\nBirr\nBurr\n5\nBurrBirr\n7\nBurr\nBirr\n\n\nAntalet gånger Burr Birr förekommer är 1\nAntalet gånger Burr förekommer är 3\nAntalet gånger Birr förekommer är 2\n"
     ]
    }
   ],
   "source": [
    "#(e) \n",
    "\n",
    "#Välj ditt start och slut nummer\n",
    "start = int(input(\"Välj ditt start nummer\"))\n",
    "slut = int(input(\"Välj ditt slut nummer\"))\n",
    "\n",
    "#input burr\n",
    "multiple = float(input(\"Vänligen in mata din multiple för burr\"))\n",
    "#input birr\n",
    "danks = float(input(\"Vänligen in mata din multiple för birr\"))\n",
    "#Variabel i = 0\n",
    "i = 0\n",
    "\n",
    "#Skapar variabler för senare använding i for loopen\n",
    "countburr = 0\n",
    "countbirr = 0\n",
    "countburrbirr = 0\n",
    "\n",
    "\n",
    "for i in range(start,slut):\n",
    "    #Om talet delat med 5 blir 0 skriv ut burr\n",
    "    #Istället för 5 så har kollar jag om jag delar I med min variabel multiple att det blir = 0\n",
    "    if i%multiple==0 and i%danks==0:\n",
    "        #PrintBurrBirr\n",
    "        print(\"BurrBirr\")\n",
    "        #Lägger till 1 i variabeln countburrbirr för varje gång det blir burr birr\n",
    "        countburrbirr += 1\n",
    "    elif i%multiple==0:\n",
    "        #Printar burr\n",
    "        print(\"Burr\")\n",
    "        #Lägger till 1 i variabeln countburr för varje gång det blir burr birr\n",
    "        countburr += 1\n",
    "    elif i%danks==0:\n",
    "        #Printar birr\n",
    "        print(\"Birr\")\n",
    "        #Lägger till 1 i variabeln countbirr för varje gång det blir burr birr\n",
    "        countbirr += 1\n",
    "    else:\n",
    "        #Om talet ej är delbart med 5 händer inget listan printas ut som vanligt\n",
    "        print(i)\n",
    "\n",
    "#Skapar två mellan rum\n",
    "print(\"\")\n",
    "print(\"\")\n",
    "print(f\"Antalet gånger Burr Birr förekommer är {countburrbirr}\")\n",
    "print(f\"Antalet gånger Burr förekommer är {countburr}\")\n",
    "print(f\"Antalet gånger Birr förekommer är {countbirr}\")"
   ]
  },
  {
   "cell_type": "code",
   "execution_count": 35,
   "metadata": {},
   "outputs": [
    {
     "output_type": "stream",
     "name": "stdout",
     "text": [
      "##########################################\n",
      "###### Välkommen till Birr, Burr #########\n",
      "##########################################\n",
      "######  Gjort av Arvid Anderson  #########\n",
      "##########################################\n",
      " \n",
      " \n",
      "#################################################\n",
      "##### Du kan ej ange negativa birr och burr #####\n",
      "#################################################\n",
      "#########  Vänligen kör om programet  ###########\n",
      "#################################################\n"
     ]
    },
    {
     "output_type": "error",
     "ename": "SystemExit",
     "evalue": "",
     "traceback": [
      "An exception has occurred, use %tb to see the full traceback.\n",
      "\u001b[1;31mSystemExit\u001b[0m\n"
     ]
    }
   ],
   "source": [
    "#(f)\n",
    "#Jag tycker man kan utveckla programmet vidare med att tillexempel göra en välkomst skärm, så det ser lite roligare ut när du kör programet samt felsökning\n",
    "\n",
    "\n",
    "\n",
    "#Behövs för time.sleep\n",
    "import time\n",
    "#exit behöver jag sys för\n",
    "import sys\n",
    "\n",
    "\n",
    "\n",
    "\n",
    "#STARTSCREEN\n",
    "print(\"##########################################\")\n",
    "print(\"###### Välkommen till Birr, Burr #########\")\n",
    "print(\"##########################################\")\n",
    "print(\"######  Gjort av Arvid Anderson  #########\")\n",
    "print(\"##########################################\")\n",
    "print(\" \")\n",
    "print(\" \")\n",
    "\n",
    "\n",
    "\n",
    "\n",
    "\n",
    "\n",
    "#Gör så programmet väntar i 3 sekunder\n",
    "time.sleep(3)\n",
    "\n",
    "\n",
    "#Välj ditt start och slut nummer\n",
    "start = int(input(\"Välj ditt start nummer\"))\n",
    "slut = int(input(\"Välj ditt slut nummer\"))\n",
    "\n",
    "#Kollar så inte slut och start nummret är negativt\n",
    "if start < 0 or slut < 0:\n",
    "    print(\"#################################################\")\n",
    "    print(\"# Du kan ej ange negativa slut och start nummer #\")\n",
    "    print(\"#################################################\")\n",
    "    print(\"#########  Vänligen kör om programet  ###########\")\n",
    "    print(\"#################################################\")\n",
    "    sys.exit()\n",
    "#input burr\n",
    "multiple = int(input(\"Vänligen in mata din multiple för burr\"))\n",
    "#input birr\n",
    "danks = int(input(\"Vänligen in mata din multiple för birr\"))\n",
    "\n",
    "#Kollar så inte burr eller birr inputen är negativ\n",
    "if multiple < 0 or danks < 0:\n",
    "    print(\"#################################################\")\n",
    "    print(\"##### Du kan ej ange negativa birr och burr #####\")\n",
    "    print(\"#################################################\")\n",
    "    print(\"#########  Vänligen kör om programet  ###########\")\n",
    "    print(\"#################################################\")\n",
    "    sys.exit()\n",
    "#Variabel i = 0\n",
    "i = 0\n",
    "\n",
    "#Skapar variabler för senare använding i for loopen\n",
    "countburr = 0\n",
    "countbirr = 0\n",
    "countburrbirr = 0\n",
    "\n",
    "\n",
    "for i in range(start,slut):\n",
    "    #Om talet delat med 5 blir 0 skriv ut burr\n",
    "    #Istället för 5 så har kollar jag om jag delar I med min variabel multiple att det blir = 0\n",
    "    if i%multiple==0 and i%danks==0:\n",
    "        #PrintBurrBirr\n",
    "        print(\"BurrBirr\")\n",
    "        #Lägger till 1 i variabeln countburrbirr för varje gång det blir burr birr\n",
    "        countburrbirr += 1\n",
    "    elif i%multiple==0:\n",
    "        #Printar burr\n",
    "        print(\"Burr\")\n",
    "        #Lägger till 1 i variabeln countburr för varje gång det blir burr birr\n",
    "        countburr += 1\n",
    "    elif i%danks==0:\n",
    "        #Printar birr\n",
    "        print(\"Birr\")\n",
    "        #Lägger till 1 i variabeln countbirr för varje gång det blir burr birr\n",
    "        countbirr += 1\n",
    "    else:\n",
    "        #Om talet ej är delbart med 5 händer inget listan printas ut som vanligt\n",
    "        print(i)\n",
    "\n",
    "#Skapar två mellan rum\n",
    "print(\"\")\n",
    "print(\"\")\n",
    "print(f\"Antalet gånger Burr Birr förekommer är {countburrbirr}\")\n",
    "print(f\"Antalet gånger Burr förekommer är {countburr}\")\n",
    "print(f\"Antalet gånger Birr förekommer är {countbirr}\")"
   ]
  },
  {
   "cell_type": "code",
   "execution_count": null,
   "metadata": {},
   "outputs": [],
   "source": []
  }
 ]
}