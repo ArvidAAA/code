{
 "metadata": {
  "language_info": {
   "codemirror_mode": {
    "name": "ipython",
    "version": 3
   },
   "file_extension": ".py",
   "mimetype": "text/x-python",
   "name": "python",
   "nbconvert_exporter": "python",
   "pygments_lexer": "ipython3",
   "version": "3.8.6-final"
  },
  "orig_nbformat": 2,
  "kernelspec": {
   "name": "Python 3.8.6 64-bit",
   "display_name": "Python 3.8.6 64-bit",
   "metadata": {
    "interpreter": {
     "hash": "2db524e06e9f5f4ffedc911c917cb75e12dbc923643829bf417064a77eb14d37"
    }
   }
  }
 },
 "nbformat": 4,
 "nbformat_minor": 2,
 "cells": [
  {
   "cell_type": "code",
   "execution_count": null,
   "metadata": {},
   "outputs": [],
   "source": [
    "#När Kokchun gick i mellanstadiet fick klassen spela ett spel som heter Burr för att träna\n",
    "#på multiplikationstabellen. Det går ut på att varje elev räknar upp heltal tills dess man\n",
    "#hamnar på en multipel av ett tal. Då ska man istället säga ”Burr” och nästa elev fortsätter\n",
    "#räkna. Ni ska återskapa det här spelet med hjälp av Python.\n",
    "#(a) Låt programmet skriva ut tal från 1-100\n",
    "#(b) För varje multipel av 5 ska programmet skriva ut ”Burr”\n",
    "#(c) Låt användaren mata in ett tal vars multiplar blir ”Burr”\n",
    "#(d) Låt användaren även mata in ett tal vars multiplar blir ”Birr”\n",
    "#(e) Designa nu ett program som låter användaren välja start, slut, multipel för ”Burr”\n",
    "#och multipel för ”Birr”. Programmet ska räkna upp antalet ”Burr”, ”Birr” och ”Burr\n",
    "#Birr”\n",
    "#(f) Ge förslag på hur man kan utveckla programmet vidare och ge det ett försök själv.\n",
    "\n",
    "#Uppgift 2"
   ]
  },
  {
   "cell_type": "code",
   "execution_count": null,
   "metadata": {},
   "outputs": [],
   "source": [
    "\n",
    "\n",
    "#(a) \n",
    "\n",
    "#sakapar foor loop\n",
    "for i in range(1, 101):\n",
    "    #Printar 1-100\n",
    "    print(i)\n",
    "    #Gör ett mellanrum\n",
    "    print(\"\")\n",
    "\n",
    " "
   ]
  },
  {
   "cell_type": "code",
   "execution_count": null,
   "metadata": {},
   "outputs": [],
   "source": [
    "\n",
    "\n",
    "#(b) \n",
    "\n",
    "\n",
    "#Variabel i = 0\n",
    "i = 0\n",
    "for i in range(1,101):\n",
    "    #Om talet delat med 5 blir 0 skriv ut burr\n",
    "    if i%5==0:\n",
    "        #Printar burr\n",
    "        print(\"Burr\")\n",
    "    else:\n",
    "        #Om talet ej är delbart med 5 händer inget listan printas ut som vanligt\n",
    "        print(i)"
   ]
  },
  {
   "cell_type": "code",
   "execution_count": null,
   "metadata": {},
   "outputs": [],
   "source": [
    "#(c) \n",
    "\n",
    "#input burr\n",
    "multiple = float(input(\"Vänligen in mata din multiple för burr\"))\n",
    "\n",
    "i = 0\n",
    "for i in range(1,101):\n",
    "    #Om talet delat med 5 blir 0 skriv ut burr\n",
    "    #Istället för 5 så har kollar jag om jag delar I med min variabel multiple att det blir = 0\n",
    "    if i%multiple==0:\n",
    "        #Printar burr\n",
    "        print(\"Burr\")\n",
    "    else:\n",
    "        #Om talet ej är delbart med 5 händer inget listan printas ut som vanligt\n",
    "        print(i)"
   ]
  },
  {
   "cell_type": "code",
   "execution_count": null,
   "metadata": {},
   "outputs": [],
   "source": [
    "#(d) \n",
    "\n",
    "#input burr\n",
    "multiple = float(input(\"Vänligen in mata din multiple för burr\"))\n",
    "#input birr\n",
    "danks = float(input(\"Vänligen in mata din multiple för birr\"))\n",
    "#Variabel i = 0\n",
    "i = 0\n",
    "for i in range(1,101):\n",
    "    #Om talet delat med 5 blir 0 skriv ut burr\n",
    "    #Istället för 5 så har kollar jag om jag delar I med min variabel multiple att det blir = 0\n",
    "    if i%multiple==0:\n",
    "        #Printar burr\n",
    "        print(\"Burr\")\n",
    "    elif i%danks==0:\n",
    "        #Printar birr\n",
    "        print(\"Birr\")\n",
    "    else:\n",
    "        #Om talet ej är delbart med 5 händer inget listan printas ut som vanligt\n",
    "        print(i)"
   ]
  },
  {
   "cell_type": "code",
   "execution_count": 71,
   "metadata": {},
   "outputs": [
    {
     "output_type": "stream",
     "name": "stdout",
     "text": [
      "1\n2\nBurr\n4\n5\nBurr\nBirr\n8\nBurr\n10\n11\nBurr\n13\nBirr\nBurr\n16\n17\nBurr\n19\n20\nBurrBirr\n22\n23\nBurr\n25\n26\nBurr\nBirr\n29\nBurr\n31\n32\nBurr\n34\nBirr\nBurr\n37\n38\nBurr\n40\n41\nBurrBirr\n43\n44\nBurr\n46\n47\nBurr\nBirr\n50\nBurr\n52\n53\nBurr\n55\nBirr\nBurr\n58\n59\nBurr\n61\n62\nBurrBirr\n64\n65\nBurr\n67\n68\nBurr\nBirr\n71\nBurr\n73\n74\nBurr\n76\nBirr\nBurr\n79\n80\nBurr\n82\n83\nBurrBirr\n85\n86\nBurr\n88\n89\nBurr\nBirr\n92\nBurr\n94\n95\nBurr\n97\nBirr\nBurr\n100\n\n\nAntalet gånger Burr Birr förekommer är 4\nAntalet gånger Burr förekommer är 29\nAntalet gånger Birr förekommer är 10\n"
     ]
    }
   ],
   "source": [
    "#(e) \n",
    "\n",
    "#Välj ditt start och slut nummer\n",
    "start = float(input(\"Välj ditt start nummer\"))\n",
    "slut = float(input(\"Välj ditt slut nummer\"))\n",
    "\n",
    "#input burr\n",
    "multiple = float(input(\"Vänligen in mata din multiple för burr\"))\n",
    "#input birr\n",
    "danks = float(input(\"Vänligen in mata din multiple för birr\"))\n",
    "#Variabel i = 0\n",
    "i = 0\n",
    "\n",
    "#Skapar variabler för senare använding i for loopen\n",
    "countburr = 0\n",
    "countbirr = 0\n",
    "countburrbirr = 0\n",
    "\n",
    "\n",
    "for i in range(1,101):\n",
    "    #Om talet delat med 5 blir 0 skriv ut burr\n",
    "    #Istället för 5 så har kollar jag om jag delar I med min variabel multiple att det blir = 0\n",
    "    if i%multiple==0 and i%danks==0:\n",
    "        #PrintBurrBirr\n",
    "        print(\"BurrBirr\")\n",
    "        #Lägger till 1 i variabeln countburrbirr för varje gång det blir burr birr\n",
    "        countburrbirr += 1\n",
    "    elif i%multiple==0:\n",
    "        #Printar burr\n",
    "        print(\"Burr\")\n",
    "        #Lägger till 1 i variabeln countburr för varje gång det blir burr birr\n",
    "        countburr += 1\n",
    "    elif i%danks==0:\n",
    "        #Printar birr\n",
    "        print(\"Birr\")\n",
    "        #Lägger till 1 i variabeln countbirr för varje gång det blir burr birr\n",
    "        countbirr += 1\n",
    "    else:\n",
    "        #Om talet ej är delbart med 5 händer inget listan printas ut som vanligt\n",
    "        print(i)\n",
    "\n",
    "#Skapar två mellan rum\n",
    "print(\"\")\n",
    "print(\"\")\n",
    "print(f\"Antalet gånger Burr Birr förekommer är {countburrbirr}\")\n",
    "print(f\"Antalet gånger Burr förekommer är {countburr}\")\n",
    "print(f\"Antalet gånger Birr förekommer är {countbirr}\")"
   ]
  },
  {
   "cell_type": "code",
   "execution_count": null,
   "metadata": {},
   "outputs": [],
   "source": []
  },
  {
   "cell_type": "code",
   "execution_count": null,
   "metadata": {},
   "outputs": [],
   "source": []
  }
 ]
}